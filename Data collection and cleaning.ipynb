{
 "cells": [
  {
   "cell_type": "code",
   "execution_count": 1,
   "metadata": {},
   "outputs": [],
   "source": [
    "# Utilities\n",
    "import json\n",
    "\n",
    "# Pull data from API\n",
    "from lib.api_request import *\n",
    "\n",
    "# Webscraping \n",
    "from lib.webscraper import *"
   ]
  },
  {
   "cell_type": "markdown",
   "metadata": {},
   "source": [
    "### Collect the **core dataset** from the D&D5E API"
   ]
  },
  {
   "cell_type": "markdown",
   "metadata": {},
   "source": [
    "The bulk of our dataset will be fetched from the 'www.dnd5eapi.co' API. This includes information of the various races, subraces and classes available in the Basic Rules, along other elements such as alignments and ability scores."
   ]
  },
  {
   "cell_type": "code",
   "execution_count": 2,
   "metadata": {},
   "outputs": [],
   "source": [
    "# Getting urls for the various races, subraces and classes\n",
    "races_url = get_url('races')\n",
    "classes_url = get_url('classes')\n",
    "subraces_url = get_url('subraces')"
   ]
  },
  {
   "cell_type": "code",
   "execution_count": 3,
   "metadata": {},
   "outputs": [],
   "source": [
    "# Getting a list of alignments and ability scores\n",
    "alignments = get_elements('alignments')\n",
    "ability_scores = get_elements('ability-scores')"
   ]
  },
  {
   "cell_type": "code",
   "execution_count": 6,
   "metadata": {},
   "outputs": [],
   "source": [
    "# Collect race, subrace and class data in the form of dictionaries\n",
    "races_dataset = get_race_data(races_url)\n",
    "classes_dataset = get_class_data(classes_url)\n",
    "subraces_dataset = get_subrace_data(subraces_url)"
   ]
  },
  {
   "cell_type": "markdown",
   "metadata": {},
   "source": [
    "### Add in some data from 5E Player's Handbook for **character flavor**"
   ]
  },
  {
   "cell_type": "markdown",
   "metadata": {},
   "source": [
    "Basic Rules only encompass a single subrace and subclass (resp. per race and class). We want our generator to create a character based in the Player's Handbook, so some additional data will be added manually here."
   ]
  },
  {
   "cell_type": "code",
   "execution_count": 10,
   "metadata": {},
   "outputs": [],
   "source": [
    "# Subclasses\n",
    "\n",
    "phb_5e_subclasses = {\n",
    "    'Barbarian' : ['Berserker', 'Totem Warrior'],\n",
    "    'Bard' : ['College of Lore', 'College of Valor'],\n",
    "    'Cleric' : ['Death', 'Knowledge', 'Life', 'Light', 'Nature', 'Tempest', 'Trickery', 'War'],\n",
    "    'Druid' : ['Land', 'Moon'],\n",
    "    'Fighter' : ['Battle Master', 'Champion', 'Eldritch knight'],\n",
    "    'Monk' : ['Four Elements', 'Open Hand', 'Shadow'],\n",
    "    'Paladin' : ['Oath of the Ancients',  'Oath of Devotion', 'Oath of Vengeance'],\n",
    "    'Ranger' : ['Beast Master', 'Hunter'],\n",
    "    'Rogue' : ['Arcane trickster', 'Assassin', 'Thief'],\n",
    "    'Sorcerer' : ['Draconic Bloodline', 'Wild Mage'],\n",
    "    'Warlock' : ['Archfey', 'Fiend', 'Great Old One'],\n",
    "    'Wizard' : ['Abjurer', 'Conjurer', 'Diviner', 'Enchanter', 'Invoker', 'Illusioner', 'Necromancer', 'Transmuter']\n",
    "}"
   ]
  },
  {
   "cell_type": "code",
   "execution_count": 11,
   "metadata": {},
   "outputs": [],
   "source": [
    "# Update the class dataset with new subclasses\n",
    "for c1 in classes_dataset:\n",
    "    for c2 in phb_5e_subclasses:\n",
    "        if c1 == c2:\n",
    "            classes_dataset[c1]['subclasses'] = list(set(classes_dataset[c1]['subclasses'] + phb_5e_subclasses[c2]))"
   ]
  },
  {
   "cell_type": "code",
   "execution_count": 12,
   "metadata": {},
   "outputs": [
    {
     "name": "stdout",
     "output_type": "stream",
     "text": [
      "Barbarian ['Berserker', 'Totem Warrior']\n",
      "Bard ['College of Lore', 'Lore', 'College of Valor']\n",
      "Cleric ['Nature', 'Trickery', 'Death', 'Life', 'Light', 'Tempest', 'War', 'Knowledge']\n",
      "Druid ['Moon', 'Land']\n",
      "Fighter ['Champion', 'Eldritch knight', 'Battle Master']\n",
      "Monk ['Open Hand', 'Four Elements', 'Shadow']\n",
      "Paladin ['Oath of the Ancients', 'Oath of Vengeance', 'Oath of Devotion', 'Devotion']\n",
      "Ranger ['Hunter', 'Beast Master']\n",
      "Rogue ['Arcane trickster', 'Assassin', 'Thief']\n",
      "Sorcerer ['Wild Mage', 'Draconic Bloodline', 'Draconic']\n",
      "Warlock ['Archfey', 'Fiend', 'Great Old One']\n",
      "Wizard ['Necromancer', 'Conjurer', 'Abjurer', 'Invoker', 'Diviner', 'Evocation', 'Transmuter', 'Enchanter', 'Illusioner']\n"
     ]
    }
   ],
   "source": [
    "# Check subclasses\n",
    "for classname, attributes in classes_dataset.items():\n",
    "    print(classname, attributes['subclasses'])\n",
    "    "
   ]
  },
  {
   "cell_type": "code",
   "execution_count": 13,
   "metadata": {},
   "outputs": [],
   "source": [
    "# Remove duplicates\n",
    "\n",
    "classes_dataset['Bard']['subclasses'].remove('Lore') # Duplicate of 'College of Lore'\n",
    "classes_dataset['Paladin']['subclasses'].remove('Devotion') # Duplicate of 'Oath of Devotion'\n",
    "classes_dataset['Sorcerer']['subclasses'].remove('Draconic') # Duplicate of 'Draconic Bloodline'\n",
    "classes_dataset['Wizard']['subclasses'].remove('Evocation') # Duplicate of 'Invoker'"
   ]
  },
  {
   "cell_type": "code",
   "execution_count": 14,
   "metadata": {},
   "outputs": [],
   "source": [
    "# Subraces\n",
    "phb_5e_subraces = {\n",
    "    'Dwarf': ['Hill Dwarf', 'Mountain Dwarf'],\n",
    "    'Elf': ['High Elf', 'Wood Elf', 'Drow'],\n",
    "    'Gnome': ['Rock Gnome', 'Forest Gnome'],\n",
    "    'Halfling': ['Lightfoot Halfling', 'Stout Halfling'],\n",
    "}"
   ]
  },
  {
   "cell_type": "code",
   "execution_count": 15,
   "metadata": {},
   "outputs": [],
   "source": [
    "# Update the race dataset with new subraces\n",
    "for r1 in races_dataset:\n",
    "    for r2 in phb_5e_subraces:\n",
    "        if r1 == r2:\n",
    "            races_dataset[r1]['subraces'] = list(set(races_dataset[r1]['subraces'] + phb_5e_subraces[r2]))"
   ]
  },
  {
   "cell_type": "code",
   "execution_count": 16,
   "metadata": {},
   "outputs": [],
   "source": [
    "# Update the subraces dataset with information from the PHB\n",
    "\n",
    "phb_5e_additional_subraces = {\n",
    "    'Wood Elf' : {\n",
    "        'racial_traits' : ['Elf Weapon Training','Fleet of Foot','Mask of the Wild'],\n",
    "        'starting_proficiencies' : ['Longswords', 'Shortswords', 'Shortbows', 'Longbows'],\n",
    "        'ability_bonus' : {'WIS':1},\n",
    "        'race' : 'Elf'\n",
    "    },\n",
    "    'Drow' : {\n",
    "        'racial_traits' : ['Superior Darkvision', 'Sunlight Sensitivity', 'Drow Magic', 'Drow Weapon Training'],\n",
    "        'starting_proficiencies' : ['Rapiers', 'Shortswords', 'Hand crossbows'],\n",
    "        'ability_bonus' : {'CHA':1},\n",
    "        'race' : 'Elf'\n",
    "    },\n",
    "    'Mountain Dwarf' : {\n",
    "        'racial_traits' : ['Dwarven Armor Training'],\n",
    "        'starting_proficiencies' : ['Light Armor', 'Medium Armor'],\n",
    "        'ability_bonus' : {'STR':2},\n",
    "        'race' : 'Dwarf'\n",
    "    },\n",
    "    'Forest Gnome' : {\n",
    "        'racial_traits' : ['Natural Illustionist', 'Speak With Small Beasts'],\n",
    "        'starting_proficiencies' : [],\n",
    "        'ability_bonus' : {'DEX': 1},\n",
    "        'race' : 'Gnome'\n",
    "    },\n",
    "    'Stout Halfling' : {\n",
    "        'racial_traits' : ['Stout Resilience'],\n",
    "        'starting_proficiencies' : [],\n",
    "        'ability_bonus' : {'CON':1},\n",
    "        'race' : 'Halfling'\n",
    "    },\n",
    "}\n"
   ]
  },
  {
   "cell_type": "code",
   "execution_count": 17,
   "metadata": {},
   "outputs": [],
   "source": [
    "# Update the subrace dataset with new subraces attributes\n",
    "subraces_dataset.update(phb_5e_additional_subraces)"
   ]
  },
  {
   "cell_type": "markdown",
   "metadata": {},
   "source": [
    "### Collect additional data via **webscraping**"
   ]
  },
  {
   "cell_type": "markdown",
   "metadata": {},
   "source": [
    "For roleplaying purposes, we will gather information on the many Pantheons and deities of Faêrun, by scraping it from a long time favorite wiki of mine: Forgotten Realms Wiki, available at https://forgottenrealms.fandom.com/wiki/."
   ]
  },
  {
   "cell_type": "code",
   "execution_count": 19,
   "metadata": {},
   "outputs": [],
   "source": [
    "#Select only Pantheons that are relevant to the playable races of the PHB.\n",
    "\n",
    "keep_pantheons = [\n",
    "        'Human deities',\n",
    "        'Lords of the Golden Hills',\n",
    "        'Morndinsamman',\n",
    "        \"Yondalla's Children\",\n",
    "        'Orcish pantheon',\n",
    "        'Seldarine',\n",
    "        'Dark Seldarine'\n",
    "        # Add desired 'Category:'' items\n",
    "    ]         "
   ]
  },
  {
   "cell_type": "code",
   "execution_count": 20,
   "metadata": {},
   "outputs": [
    {
     "name": "stdout",
     "output_type": "stream",
     "text": [
      "\n",
      "\n"
     ]
    }
   ],
   "source": [
    "# Collect data (grab yourself a coffee, this can take a while)\n",
    "deities_url = get_deity_url(keep_pantheons)\n",
    "deities_dataset = get_deity_details(deities_url)"
   ]
  },
  {
   "cell_type": "code",
   "execution_count": 2,
   "metadata": {},
   "outputs": [],
   "source": [
    "# Checking the list of deities for each pantheon\n",
    "for pantheon in deities_dataset.keys():\n",
    "    print(pantheon, deities_dataset[pantheon].keys())"
   ]
  },
  {
   "cell_type": "code",
   "execution_count": 26,
   "metadata": {},
   "outputs": [],
   "source": [
    "# Drop Kozah (which is equivalent to Talos)\n",
    "deities_dataset['Human deities'].pop('Kozah')\n",
    "\n",
    "# Drop detities from ancient pantheons (Pharaonic / Mulhorandi...) \n",
    "deities_dataset['Human deities'].pop('Anubis')\n",
    "deities_dataset['Human deities'].pop('Apep')\n",
    "deities_dataset['Human deities'].pop('Nephthys')\n",
    "deities_dataset['Human deities'].pop('Poseidon')\n",
    "\n",
    "# Fix the format for Mystra (Midnight)\n",
    "deities_dataset['Human deities']['Mystra'] = deities_dataset['Human deities'].pop('Mystra (Midnight)')"
   ]
  },
  {
   "cell_type": "markdown",
   "metadata": {},
   "source": [
    "### Export dataset"
   ]
  },
  {
   "cell_type": "markdown",
   "metadata": {},
   "source": [
    "We'll use a JSON format to store our collected dataset."
   ]
  },
  {
   "cell_type": "code",
   "execution_count": 28,
   "metadata": {},
   "outputs": [],
   "source": [
    "# Put the complete dataset together\n",
    "dataset = {\n",
    "    'races' : races_dataset,\n",
    "    'subraces' : subraces_dataset,\n",
    "    'classes' : classes_dataset,\n",
    "    'alignments' : alignments,\n",
    "    'ability_scores' : ability_scores,\n",
    "    'deities': deities_dataset\n",
    "}"
   ]
  },
  {
   "cell_type": "code",
   "execution_count": 29,
   "metadata": {},
   "outputs": [],
   "source": [
    "# Dump it to a JSON file\n",
    "with open('./data/dataset.json','w') as json_file:\n",
    "    json.dump(dataset, json_file)"
   ]
  }
 ],
 "metadata": {
  "kernelspec": {
   "display_name": "Python 3.10.5 ('webscraping')",
   "language": "python",
   "name": "python3"
  },
  "language_info": {
   "codemirror_mode": {
    "name": "ipython",
    "version": 3
   },
   "file_extension": ".py",
   "mimetype": "text/x-python",
   "name": "python",
   "nbconvert_exporter": "python",
   "pygments_lexer": "ipython3",
   "version": "3.10.5"
  },
  "vscode": {
   "interpreter": {
    "hash": "cac371228bef02a3e9a360a5b5a17493065997ba5a9a030de847606f95529a1b"
   }
  }
 },
 "nbformat": 4,
 "nbformat_minor": 4
}
